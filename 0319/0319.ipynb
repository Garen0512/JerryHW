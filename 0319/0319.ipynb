{
 "cells": [
  {
   "cell_type": "markdown",
   "metadata": {},
   "source": [
    "# 0319-01"
   ]
  },
  {
   "cell_type": "code",
   "execution_count": 10,
   "metadata": {},
   "outputs": [
    {
     "name": "stdout",
     "output_type": "stream",
     "text": [
      "請輸入數字:651\n"
     ]
    },
    {
     "data": {
      "text/plain": [
       "False"
      ]
     },
     "execution_count": 10,
     "metadata": {},
     "output_type": "execute_result"
    }
   ],
   "source": [
    "x = input('請輸入數字:')\n",
    "len(x) != len(set(x))"
   ]
  },
  {
   "cell_type": "markdown",
   "metadata": {},
   "source": [
    "# 0319-02"
   ]
  },
  {
   "cell_type": "code",
   "execution_count": 11,
   "metadata": {},
   "outputs": [
    {
     "name": "stdout",
     "output_type": "stream",
     "text": [
      "猜數字:5\n",
      "猜錯了繼續\n",
      "猜數字:54\n",
      "猜錯了繼續\n",
      "猜數字:8\n",
      "猜對了\n"
     ]
    }
   ],
   "source": [
    "while True:\n",
    "    x = input('猜數字:')\n",
    "    if x == '8':\n",
    "        print('猜對了')\n",
    "        break\n",
    "    else :\n",
    "        print('猜錯了繼續')\n",
    "        continue"
   ]
  },
  {
   "cell_type": "markdown",
   "metadata": {},
   "source": [
    "# 0319-03"
   ]
  },
  {
   "cell_type": "code",
   "execution_count": 14,
   "metadata": {},
   "outputs": [
    {
     "name": "stdout",
     "output_type": "stream",
     "text": [
      "1x1=1\t1x2=2\t1x3=3\t1x4=4\t1x5=5\t1x6=6\t1x7=7\t1x8=8\t1x9=9\t2x1=2\t2x2=4\t2x3=6\t2x4=8\t2x5=10\t2x6=12\t2x7=14\t2x8=16\t2x9=18\t3x1=3\t3x2=6\t3x3=9\t3x4=12\t3x5=15\t3x6=18\t3x7=21\t3x8=24\t3x9=27\t4x1=4\t4x2=8\t4x3=12\t4x4=16\t4x5=20\t4x6=24\t4x7=28\t4x8=32\t4x9=36\t5x1=5\t5x2=10\t5x3=15\t5x4=20\t5x5=25\t5x6=30\t5x7=35\t5x8=40\t5x9=45\t6x1=6\t6x2=12\t6x3=18\t6x4=24\t6x5=30\t6x6=36\t6x7=42\t6x8=48\t6x9=54\t7x1=7\t7x2=14\t7x3=21\t7x4=28\t7x5=35\t7x6=42\t7x7=49\t7x8=56\t7x9=63\t8x1=8\t8x2=16\t8x3=24\t8x4=32\t8x5=40\t8x6=48\t8x7=56\t8x8=64\t8x9=72\t9x1=9\t9x2=18\t9x3=27\t9x4=36\t9x5=45\t9x6=54\t9x7=63\t9x8=72\t9x9=81\t"
     ]
    }
   ],
   "source": [
    "for i in range(0, 81):\n",
    "    x = int(i/9) + 1 \n",
    "    y = int(i%9) + 1\n",
    "    z = x*y \n",
    "    print('{}x{}={}\\t'.format(x, y, x*y), end='')"
   ]
  },
  {
   "cell_type": "markdown",
   "metadata": {},
   "source": [
    "# 0319-04"
   ]
  },
  {
   "cell_type": "code",
   "execution_count": 42,
   "metadata": {},
   "outputs": [
    {
     "name": "stdout",
     "output_type": "stream",
     "text": [
      "[1, 3, 5]\n"
     ]
    }
   ],
   "source": [
    "a_lint = [];\n",
    "for number in range(1,6):\n",
    "    if number%2 == 1:\n",
    "        a_lint.append(number)\n",
    "print(a_lint)"
   ]
  },
  {
   "cell_type": "markdown",
   "metadata": {},
   "source": [
    "# 0319-05"
   ]
  },
  {
   "cell_type": "code",
   "execution_count": 57,
   "metadata": {},
   "outputs": [
    {
     "name": "stdout",
     "output_type": "stream",
     "text": [
      "1x1=1\t1x2=2\t1x3=3\t1x4=4\t1x5=5\t1x6=6\t1x7=7\t1x8=8\t1x9=9\t2x1=2\t2x2=4\t2x3=6\t2x4=8\t2x5=10\t2x6=12\t2x7=14\t2x8=16\t2x9=18\t3x1=3\t3x2=6\t3x3=9\t3x4=12\t3x5=15\t3x6=18\t3x7=21\t3x8=24\t3x9=27\t4x1=4\t4x2=8\t4x3=12\t4x4=16\t4x5=20\t4x6=24\t4x7=28\t4x8=32\t4x9=36\t5x1=5\t5x2=10\t5x3=15\t5x4=20\t5x5=25\t5x6=30\t5x7=35\t5x8=40\t5x9=45\t6x1=6\t6x2=12\t6x3=18\t6x4=24\t6x5=30\t6x6=36\t6x7=42\t6x8=48\t6x9=54\t7x1=7\t7x2=14\t7x3=21\t7x4=28\t7x5=35\t7x6=42\t7x7=49\t7x8=56\t7x9=63\t8x1=8\t8x2=16\t8x3=24\t8x4=32\t8x5=40\t8x6=48\t8x7=56\t8x8=64\t8x9=72\t9x1=9\t9x2=18\t9x3=27\t9x4=36\t9x5=45\t9x6=54\t9x7=63\t9x8=72\t9x9=81\t"
     ]
    }
   ],
   "source": [
    "rows = range(1,10)\n",
    "cols = range(1,10)\n",
    "for row in rows:\n",
    "    for col in cols:\n",
    "        x = row * col\n",
    "        print('{}x{}={}\\t'.format(row, col,x), end='')"
   ]
  },
  {
   "cell_type": "markdown",
   "metadata": {},
   "source": [
    "# 0319-06"
   ]
  },
  {
   "cell_type": "code",
   "execution_count": 70,
   "metadata": {},
   "outputs": [
    {
     "data": {
      "text/plain": [
       "'鋼鐵⼈盔甲是紅色的'"
      ]
     },
     "execution_count": 70,
     "metadata": {},
     "output_type": "execute_result"
    }
   ],
   "source": [
    "def iron_man_definition(iron_man_color = \"XX\"):\n",
    "    if iron_man_color == \"紅色\":      \n",
    "        return(\"鋼鐵⼈盔甲是紅色的\") \n",
    "    elif iron_man_color == \"綠色\":   \n",
    "        return(\"鋼鐵⼈其實也可以參考浩克的顏色\") \n",
    "    elif iron_man_color == \"藍⾊\": \n",
    "        return(\"鋼鐵⼈變成藍⾊⼩精靈也不錯\") \n",
    "    else:  \n",
    "        print(\"好像沒這種顏色\",iron_man_color)\n",
    "iron_man_definition(\"紅色\")"
   ]
  },
  {
   "cell_type": "code",
   "execution_count": 71,
   "metadata": {},
   "outputs": [
    {
     "data": {
      "text/plain": [
       "'鋼鐵⼈變成藍⾊⼩精靈也不錯'"
      ]
     },
     "execution_count": 71,
     "metadata": {},
     "output_type": "execute_result"
    }
   ],
   "source": [
    "def iron_man_definition(iron_man_color = \"XX\"):\n",
    "    if iron_man_color == \"紅色\":      \n",
    "        return(\"鋼鐵⼈盔甲是紅色的\") \n",
    "    elif iron_man_color == \"綠色\":   \n",
    "        return(\"鋼鐵⼈其實也可以參考浩克的顏色\") \n",
    "    elif iron_man_color == \"藍⾊\": \n",
    "        return(\"鋼鐵⼈變成藍⾊⼩精靈也不錯\") \n",
    "    else:  \n",
    "        print(\"好像沒這種顏色\",iron_man_color)\n",
    "iron_man_definition(\"藍⾊\")"
   ]
  },
  {
   "cell_type": "markdown",
   "metadata": {},
   "source": [
    "# 0319-07"
   ]
  },
  {
   "cell_type": "code",
   "execution_count": 73,
   "metadata": {},
   "outputs": [
    {
     "name": "stdout",
     "output_type": "stream",
     "text": [
      "Select operation\n",
      " 1.Add\n",
      " 2.Subtract\n",
      " 3.Multiply\n",
      " 4.Divide\n",
      "Enter choice(1/2/3/4):3\n",
      "Enter first number: 50\n",
      "Enter second number: 50\n",
      "50 * 50 = 2500\n"
     ]
    }
   ],
   "source": [
    "def run_with_posit(func,*args):\n",
    "    return func(*args)\n",
    "def add(*args):\n",
    "    return args[0]+args[1]\n",
    "def subtract(*args):\n",
    "    return args[0]-args[1]\n",
    "def multiply(*args):\n",
    "    return args[0]*args[1]\n",
    "def divide(*args):\n",
    "    return args[0]/args[1]\n",
    "\n",
    "print(\"Select operation\\n 1.Add\\n 2.Subtract\\n 3.Multiply\\n 4.Divide\")\n",
    "\n",
    "choice = eval(input(\"Enter choice(1/2/3/4):\"))\n",
    "\n",
    "if choice == 1:\n",
    "    num1 = int(input(\"Enter first number: \"))\n",
    "    num2 = int(input(\"Enter second number: \"))\n",
    "    print(num1, '+', num2, '=', run_with_posit(add,num1,num2))\n",
    "elif choice == 2:\n",
    "    num1 = int(input(\"Enter first number: \"))\n",
    "    num2 = int(input(\"Enter second number: \"))\n",
    "    print(num1, '-', num2, '=', run_with_posit(subtract,num1,num2))\n",
    "elif choice == 3:\n",
    "    num1 = int(input(\"Enter first number: \"))\n",
    "    num2 = int(input(\"Enter second number: \"))\n",
    "    print(num1, '*', num2, '=', run_with_posit(multiply,num1,num2))\n",
    "elif choice == 4:\n",
    "    num1 = int(input(\"Enter first number: \"))\n",
    "    num2 = int(input(\"Enter second number: \"))\n",
    "    print(num1, '/', num2, '=', run_with_posit(divide,num1,num2))\n",
    "else:\n",
    "    print(\"Invalid input\")"
   ]
  },
  {
   "cell_type": "code",
   "execution_count": null,
   "metadata": {},
   "outputs": [],
   "source": []
  }
 ],
 "metadata": {
  "kernelspec": {
   "display_name": "Python 3",
   "language": "python",
   "name": "python3"
  },
  "language_info": {
   "codemirror_mode": {
    "name": "ipython",
    "version": 3
   },
   "file_extension": ".py",
   "mimetype": "text/x-python",
   "name": "python",
   "nbconvert_exporter": "python",
   "pygments_lexer": "ipython3",
   "version": "3.6.4"
  }
 },
 "nbformat": 4,
 "nbformat_minor": 2
}
