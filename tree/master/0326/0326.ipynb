{
 "cells": [
  {
   "cell_type": "markdown",
   "metadata": {},
   "source": [
    "# 0326-01"
   ]
  },
  {
   "cell_type": "code",
   "execution_count": 67,
   "metadata": {},
   "outputs": [
    {
     "name": "stdout",
     "output_type": "stream",
     "text": [
      "請輸入數字:50 60 849\n"
     ]
    },
    {
     "data": {
      "text/plain": [
       "[150, 160, 949]"
      ]
     },
     "execution_count": 67,
     "metadata": {},
     "output_type": "execute_result"
    }
   ],
   "source": [
    "bo = input('請輸入數字:').split()\n",
    "list(map(lambda x:int(x)+100,bo))"
   ]
  },
  {
   "cell_type": "markdown",
   "metadata": {},
   "source": [
    "# 0326-02"
   ]
  },
  {
   "cell_type": "code",
   "execution_count": 90,
   "metadata": {},
   "outputs": [],
   "source": [
    "def abc (func):\n",
    "    def x(*args,**kwargs):\n",
    "        result = func(*args,**kwargs) \n",
    "        print('相加:',result)\n",
    "        return ('相乘結果',args[0]*args[1])\n",
    "    return x"
   ]
  },
  {
   "cell_type": "code",
   "execution_count": 91,
   "metadata": {},
   "outputs": [],
   "source": [
    "@abc\n",
    "def add_ints(a,b):\n",
    "    return (a+b)"
   ]
  },
  {
   "cell_type": "code",
   "execution_count": 92,
   "metadata": {},
   "outputs": [
    {
     "name": "stdout",
     "output_type": "stream",
     "text": [
      "相加: 13\n"
     ]
    },
    {
     "data": {
      "text/plain": [
       "('相乘結果', 42)"
      ]
     },
     "execution_count": 92,
     "metadata": {},
     "output_type": "execute_result"
    }
   ],
   "source": [
    "add_ints(6,7)"
   ]
  },
  {
   "cell_type": "markdown",
   "metadata": {},
   "source": [
    "# 0326-03"
   ]
  },
  {
   "cell_type": "code",
   "execution_count": 93,
   "metadata": {},
   "outputs": [
    {
     "name": "stdout",
     "output_type": "stream",
     "text": [
      "請輸入整數:666ppp\n",
      "出錯，請重新輸入\n"
     ]
    }
   ],
   "source": [
    "try:\n",
    "    x=int(input(\"請輸入整數:\"))\n",
    "    print('正確數字',x)\n",
    "except:\n",
    "    print(\"出錯，請重新輸入\")"
   ]
  },
  {
   "cell_type": "code",
   "execution_count": 94,
   "metadata": {},
   "outputs": [
    {
     "name": "stdout",
     "output_type": "stream",
     "text": [
      "請輸入整數:6666\n",
      "正確數字 6666\n"
     ]
    }
   ],
   "source": [
    "try:\n",
    "    x=int(input(\"請輸入整數:\"))\n",
    "    print('正確數字',x)\n",
    "except:\n",
    "    print(\"出錯，請重新輸入\")"
   ]
  },
  {
   "cell_type": "markdown",
   "metadata": {},
   "source": [
    "# 0326-04"
   ]
  },
  {
   "cell_type": "code",
   "execution_count": 102,
   "metadata": {},
   "outputs": [
    {
     "name": "stdout",
     "output_type": "stream",
     "text": [
      "Select operation\n",
      " 1.Add\n",
      " 2.Subtract\n",
      " 3.Multiply\n",
      " 4.Divide\n",
      "Enter choice(1/2/3/4):3\n",
      "Enter first number: 20\n",
      "Enter second number: 20\n",
      "20 * 20 = 400\n"
     ]
    }
   ],
   "source": [
    "from source import Calculator\n",
    "\n",
    "print(\"Select operation\\n 1.Add\\n 2.Subtract\\n 3.Multiply\\n 4.Divide\")\n",
    "\n",
    "choice = eval(input(\"Enter choice(1/2/3/4):\"))\n",
    "\n",
    "if choice == 1:\n",
    "    x = int(input(\"Enter first number: \"))\n",
    "    y = int(input(\"Enter second number: \"))\n",
    "    print(x, '+', y, '=', Calculator.add(x,y))\n",
    "elif choice == 2:\n",
    "    x = int(input(\"Enter first number: \"))\n",
    "    y = int(input(\"Enter second number: \"))\n",
    "    print(x, '-', y, '=', Calculator.subtract(x,y))\n",
    "elif choice == 3:\n",
    "    x = int(input(\"Enter first number: \"))\n",
    "    y = int(input(\"Enter second number: \"))\n",
    "    print(x, '*', y, '=', Calculator.multiply(x,y))\n",
    "elif choice == 4:\n",
    "    x = int(input(\"Enter first number: \"))\n",
    "    y = int(input(\"Enter second number: \"))\n",
    "    print(x, '/', y, '=', Calculator.divide(x,y))\n",
    "else:\n",
    "    print(\"Invalid input\")"
   ]
  },
  {
   "cell_type": "code",
   "execution_count": null,
   "metadata": {},
   "outputs": [],
   "source": []
  }
 ],
 "metadata": {
  "kernelspec": {
   "display_name": "Python 3",
   "language": "python",
   "name": "python3"
  },
  "language_info": {
   "codemirror_mode": {
    "name": "ipython",
    "version": 3
   },
   "file_extension": ".py",
   "mimetype": "text/x-python",
   "name": "python",
   "nbconvert_exporter": "python",
   "pygments_lexer": "ipython3",
   "version": "3.6.4"
  }
 },
 "nbformat": 4,
 "nbformat_minor": 2
}
